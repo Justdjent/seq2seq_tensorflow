{
 "cells": [
  {
   "cell_type": "code",
   "execution_count": 1,
   "metadata": {
    "collapsed": true
   },
   "outputs": [],
   "source": [
    "import tensorflow as tf"
   ]
  },
  {
   "cell_type": "code",
   "execution_count": 5,
   "metadata": {},
   "outputs": [
    {
     "ename": "SyntaxError",
     "evalue": "invalid syntax (<ipython-input-5-3fde11658855>, line 17)",
     "output_type": "error",
     "traceback": [
      "\u001b[0;36m  File \u001b[0;32m\"<ipython-input-5-3fde11658855>\"\u001b[0;36m, line \u001b[0;32m17\u001b[0m\n\u001b[0;31m    inputs = =features_seq\u001b[0m\n\u001b[0m             ^\u001b[0m\n\u001b[0;31mSyntaxError\u001b[0m\u001b[0;31m:\u001b[0m invalid syntax\n"
     ]
    }
   ],
   "source": [
    "input_dim=128\n",
    "hidden_state_dim=256\n",
    "output_dim=3\n",
    "\n",
    "learning_rate = 0.00025\n",
    "\n",
    "def build_graph(features_seq, lengths_seq):\n",
    "    rnn_cell = tf.contrib.rnn.BasicLSTMCell(\n",
    "        num_units=hidden_state_dim,\n",
    "        activation = tf.nn.tanh,\n",
    "        state_is_tuple = True\n",
    "    )\n",
    "    \n",
    "    rnn_outputs, _ = tf.nn.dynamic_rnn(\n",
    "    cell = rnn_cell, dtype = tf.float32,\n",
    "    sequence_length = length_seq,\n",
    "    inputs = =features_seq\n",
    "    )\n",
    "    \n",
    "    output = tf.layers.dense(\n",
    "    inputs = rnn_outputs, units = output_dim,\n",
    "    activation = None\n",
    "    )\n",
    "    \n",
    "    return output\n",
    "\n",
    "with tf.Graph().as_default():\n",
    "    inputs = tf.placeholder(\n",
    "        shape=[None, None, input_dim],\n",
    "        name = \"features\", dtype = tf.float32\n",
    "    )\n",
    "    \n",
    "    length = tf.placeholder(\n",
    "        shape = (None, None, output_dim),\n",
    "        name = 'labels', dtype = tf.float32\n",
    "    )\n",
    "    \n",
    "    model_outputs = build_graph(inputs, lengths)\n",
    "    \n",
    "    train_loss =  tf.reduce_mean(\n",
    "      tf.nn.softmax_cross_entropy_with_logits(\n",
    "        labels=tf.concat(train_labels, 0), logits=logits))\n",
    "    optimizer = tf.train.AdamOptimizer(learning_rate=learning_rate)\n",
    "    train_op = optimizer.minimize(train_loss)\n",
    "    \n",
    "with tf.session() as sess:\n",
    "    for i in range(iter_num):\n",
    "        loss_value, _ = sess.run([train_loss, train_op], feed_dict = {\n",
    "            inputs: ...,\n",
    "            outputs: ...,\n",
    "            lengths: ...,\n",
    "        })"
   ]
  },
  {
   "cell_type": "code",
   "execution_count": 4,
   "metadata": {},
   "outputs": [
    {
     "ename": "NameError",
     "evalue": "name 'input_dim' is not defined",
     "output_type": "error",
     "traceback": [
      "\u001b[0;31m---------------------------------------------------------------------------\u001b[0m",
      "\u001b[0;31mNameError\u001b[0m                                 Traceback (most recent call last)",
      "\u001b[0;32m<ipython-input-4-79e5bc032536>\u001b[0m in \u001b[0;36m<module>\u001b[0;34m()\u001b[0m\n\u001b[1;32m      4\u001b[0m \u001b[0;34m\u001b[0m\u001b[0m\n\u001b[1;32m      5\u001b[0m sequence_features = {\n\u001b[0;32m----> 6\u001b[0;31m     \u001b[0;34m\"features\"\u001b[0m\u001b[0;34m:\u001b[0m \u001b[0mtf\u001b[0m\u001b[0;34m.\u001b[0m\u001b[0mFixedLenSequenceFeature\u001b[0m\u001b[0;34m(\u001b[0m\u001b[0;34m[\u001b[0m\u001b[0minput_dim\u001b[0m\u001b[0;34m]\u001b[0m\u001b[0;34m,\u001b[0m \u001b[0mdtype\u001b[0m\u001b[0;34m=\u001b[0m\u001b[0mtf\u001b[0m\u001b[0;34m.\u001b[0m\u001b[0mfloat32\u001b[0m\u001b[0;34m)\u001b[0m\u001b[0;34m,\u001b[0m\u001b[0;34m\u001b[0m\u001b[0m\n\u001b[0m\u001b[1;32m      7\u001b[0m     \u001b[0;34m\"labels\"\u001b[0m\u001b[0;34m:\u001b[0m \u001b[0mtf\u001b[0m\u001b[0;34m.\u001b[0m\u001b[0mFixedLenSequenceFeature\u001b[0m\u001b[0;34m(\u001b[0m\u001b[0;34m[\u001b[0m\u001b[0moutput_dim\u001b[0m\u001b[0;34m]\u001b[0m\u001b[0;34m,\u001b[0m \u001b[0mdtype\u001b[0m\u001b[0;34m=\u001b[0m\u001b[0mtf\u001b[0m\u001b[0;34m.\u001b[0m\u001b[0mfloat32\u001b[0m\u001b[0;34m)\u001b[0m\u001b[0;34m\u001b[0m\u001b[0m\n\u001b[1;32m      8\u001b[0m }\n",
      "\u001b[0;31mNameError\u001b[0m: name 'input_dim' is not defined"
     ]
    }
   ],
   "source": [
    "context_features = {\n",
    "    \"length\": tf.FixedLenFeature([], dtype=tf.int64)\n",
    "}\n",
    "\n",
    "sequence_features = {\n",
    "    \"features\": tf.FixedLenSequenceFeature([input_dim], dtype=tf.float32),\n",
    "    \"labels\": tf.FixedLenSequenceFeature([output_dim], dtype=tf.float32)\n",
    "}"
   ]
  },
  {
   "cell_type": "code",
   "execution_count": 7,
   "metadata": {
    "collapsed": true
   },
   "outputs": [],
   "source": [
    "def read_file(filename_queue):\n",
    "    reader = tf.TFRecordReader()\n",
    "    _, record_string = reader.read(filename_queue)\n",
    "    \n",
    "    context_parsed, sequence_parsed = tf.parse_single_sequence_example(\n",
    "        serialized=record_string,\n",
    "        context_features=context_features,\n",
    "        sequence_features= sequence_features\n",
    "    )\n",
    "    \n",
    "    return context_parsed, sequence_parsed"
   ]
  },
  {
   "cell_type": "code",
   "execution_count": 6,
   "metadata": {
    "collapsed": true
   },
   "outputs": [],
   "source": [
    "def input_pipeline(filenames, batch_size, num_epochs=None, capacity=2500, num_threads=2):\n",
    "    filename_queue = tf.train.string_input_producer(\n",
    "    filenames, num_epochs=num_epochs, shuffle=True\n",
    "    )\n",
    "    \n",
    "    context, sequence = read_file(filename_queue)\n",
    "    \n",
    "    batch_l, batch_x, batch_y = tf.train.batch(\n",
    "        tensors=[\n",
    "                context['length'],\n",
    "                sequence['features'],\n",
    "                sequence['labels']\n",
    "        ],\n",
    "        batch_size=batch_size, num_threads=num_threads,\n",
    "        capacity=capacity, dynamic_pad=True\n",
    "    )\n",
    "    \n",
    "    return batch_l, batch_x, batch_y"
   ]
  },
  {
   "cell_type": "code",
   "execution_count": null,
   "metadata": {
    "collapsed": true
   },
   "outputs": [],
   "source": [
    "input_dim=128\n",
    "hidden_state_dim=256\n",
    "output_dim=3\n",
    "\n",
    "learning_rate = 0.00025\n",
    "\n",
    "checkpoint_file = 'model.ckpt'\n",
    "\n",
    "with tf.Graph().as_default():\n",
    "    train_lengths, train_inputs, train_outputs = input_pipeline(\n",
    "    filenames = train_files, batch_size=train_batch_size,\n",
    "    num_epochs=num_epochs, num_threads=num_threads\n",
    "    )\n",
    "    \n",
    "    val_lengths, val_inputs, val_outputs = input_pipeline(\n",
    "    filenames = validation_files, batch_size=val_batch_size,\n",
    "    num_epochs=None, num_threads=num_threads\n",
    "    )\n",
    "    \n",
    "    length = tf.Placeholder(\n",
    "        shape= [None,],\n",
    "        name='lengths', dtype=tf.float32\n",
    "    )\n",
    "    \n",
    "    inputs = tf.Placeholder(\n",
    "        shape= [None, None, input_dim],\n",
    "        name='inputs', dtype=tf.float32\n",
    "    )\n",
    "    \n",
    "!    with tf.name_scope('prediction_block'):\n",
    "        with tf.variable_scope('model_weights') as scope:\n",
    "            train_predicted = build_graph(train_inputs, train_lengths)\n",
    "!            \n",
    "    with tf.name_scope('valid_block'):\n",
    "        with tf.variable_scope('model_weights') as scope:\n",
    " !           train_predicted = build_graph(train_inputs, train_lengths)\n",
    "            \n",
    "    with tf.name_scope('evaluation_block'):\n",
    "        with tf.variable_scope('model_weights') as scope:\n",
    "            train_predicted = build_graph(train_inputs, train_lengths)\n",
    "    \n",
    "    \n",
    "    model_outputs = build_graph(train_inputs, train_lengths)\n",
    "    \n",
    "    train_loss =  tf.reduce_mean(\n",
    "      tf.nn.softmax_cross_entropy_with_logits(\n",
    "        labels=tf.concat(train_labels, 0), logits=logits))\n",
    "    optimizer = tf.train.AdamOptimizer(learning_rate=learning_rate)\n",
    "    train_op = optimizer.minimize(train_loss)\n",
    "    \n",
    "    sess = tf.Session(config=config)\n",
    "    sess.run(init_op)\n",
    "    \n",
    "    coord = tf.train.Coordinator()\n",
    "    saver = tf.train.Saver()\n",
    "    \n",
    "    threads = tf.train.start_queue_runners(sess= sess, coord= coord)\n",
    "    \n",
    "    try:\n",
    "        while not coord.should_stop():\n",
    "            train_loss_value, _ = sess.run([train_loss, train_op])\n",
    "            \n",
    "    except tf.errors.OutofRangeError:\n",
    "        print('Done training -- epoch limit reached')\n",
    "        saver.save(sess, checkpoint_file)\n",
    "        \n",
    "    finally:\n",
    "        coord.request_stop()\n",
    "        \n",
    "    coord.join(threads)\n",
    "    sess.close\n",
    "                "
   ]
  }
 ],
 "metadata": {
  "kernelspec": {
   "display_name": "Python 2",
   "language": "python",
   "name": "python2"
  },
  "language_info": {
   "codemirror_mode": {
    "name": "ipython",
    "version": 2
   },
   "file_extension": ".py",
   "mimetype": "text/x-python",
   "name": "python",
   "nbconvert_exporter": "python",
   "pygments_lexer": "ipython2",
   "version": "2.7.12"
  }
 },
 "nbformat": 4,
 "nbformat_minor": 2
}
